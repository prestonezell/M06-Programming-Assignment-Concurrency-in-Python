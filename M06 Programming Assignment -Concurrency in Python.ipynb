{
 "cells": [
  {
   "cell_type": "markdown",
   "id": "33832c29",
   "metadata": {},
   "source": [
    "13.1 Write the current date as a string to the text file today.txt."
   ]
  },
  {
   "cell_type": "code",
   "execution_count": 4,
   "id": "f03ab27f",
   "metadata": {},
   "outputs": [
    {
     "name": "stdout",
     "output_type": "stream",
     "text": [
      "09-30-2023\n"
     ]
    }
   ],
   "source": [
    "import datetime\n",
    "\n",
    "current_date = datetime.date.today()\n",
    "\n",
    "current_date_string = current_date.strftime('%m-%d-%Y')\n",
    "\n",
    "print(current_date_string)\n",
    "\n",
    "with open('today.txt', 'w') as file:\n",
    "    file.write(current_date_string)"
   ]
  },
  {
   "cell_type": "markdown",
   "id": "439871ef",
   "metadata": {},
   "source": [
    "13.2 Read the text file today.txt into the string today_string."
   ]
  },
  {
   "cell_type": "code",
   "execution_count": 3,
   "id": "66046d75",
   "metadata": {},
   "outputs": [
    {
     "name": "stdout",
     "output_type": "stream",
     "text": [
      "09-30-2023\n"
     ]
    }
   ],
   "source": [
    "with open('today.txt', 'r') as file:\n",
    "    current_date_string_file = file.read()\n",
    "    \n",
    "print(current_date_string_file)"
   ]
  },
  {
   "cell_type": "markdown",
   "id": "d54cc7ec",
   "metadata": {},
   "source": [
    "13.3 Parse the date from today_string."
   ]
  },
  {
   "cell_type": "code",
   "execution_count": 15,
   "id": "b946f466",
   "metadata": {},
   "outputs": [
    {
     "name": "stdout",
     "output_type": "stream",
     "text": [
      "successful\n"
     ]
    }
   ],
   "source": [
    "import datetime\n",
    "\n",
    "date_format = '%m-%d-%Y'\n",
    "parsed = datetime.datetime.strptime(current_date_string_file, date_format).date()\n",
    "\n",
    "if isinstance(parsed, datetime.date):\n",
    "    print('successful')\n",
    "else:\n",
    "    print('failed')"
   ]
  },
  {
   "cell_type": "markdown",
   "id": "626e7a8c",
   "metadata": {},
   "source": [
    "15.1 Use multiprocessing to create three separate processes. Make each one wait a random number of seconds between zero and one, print the current time, and then exit."
   ]
  },
  {
   "cell_type": "code",
   "execution_count": 3,
   "id": "c9c0932f",
   "metadata": {},
   "outputs": [],
   "source": [
    "import multiprocessing\n",
    "import time\n",
    "import random\n",
    "from datetime import datetime\n",
    "\n",
    "def print_time_and_wait(process_num):\n",
    "    wait_time = random.random()\n",
    "    time.sleep(wait_time)\n",
    "    current_time = datetime.now().strftime(\"%Y-%m-%d %H:%M:%S.%f\")\n",
    "    print(f\"Process {process_num}: Current time is {current_time}\")\n",
    "    \n",
    "if __name__ == \"__main__\":\n",
    "    processes = []\n",
    "    for i in range(3):\n",
    "        process = multiprocessing.Process(target=print_time_and_wait, args=(i,))\n",
    "        processes.append(process)\n",
    "        process.start()"
   ]
  },
  {
   "cell_type": "markdown",
   "id": "00840423",
   "metadata": {},
   "source": [
    "^^ I couldn't figure out how to print the processes out here in my notebook, but I copied and pasted this to VScode and it works properly."
   ]
  }
 ],
 "metadata": {
  "kernelspec": {
   "display_name": "Python 3 (ipykernel)",
   "language": "python",
   "name": "python3"
  },
  "language_info": {
   "codemirror_mode": {
    "name": "ipython",
    "version": 3
   },
   "file_extension": ".py",
   "mimetype": "text/x-python",
   "name": "python",
   "nbconvert_exporter": "python",
   "pygments_lexer": "ipython3",
   "version": "3.11.4"
  }
 },
 "nbformat": 4,
 "nbformat_minor": 5
}
